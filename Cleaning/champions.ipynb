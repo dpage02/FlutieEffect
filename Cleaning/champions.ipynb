{
 "cells": [
  {
   "cell_type": "code",
   "execution_count": 1,
   "metadata": {},
   "outputs": [],
   "source": [
    "import pandas as pd"
   ]
  },
  {
   "cell_type": "code",
   "execution_count": 2,
   "metadata": {},
   "outputs": [],
   "source": [
    "url = 'https://www.ncaa.com/history/football/fbs'"
   ]
  },
  {
   "cell_type": "code",
   "execution_count": 3,
   "metadata": {},
   "outputs": [
    {
     "data": {
      "text/plain": [
       "[     Season            Champion Selecting Organization\n",
       " 0      2019                 LSU                    CFP\n",
       " 1      2018             Clemson                    CFP\n",
       " 2      2017             Alabama                    CFP\n",
       " 3      2016             Clemson                    CFP\n",
       " 4      2015             Alabama                    CFP\n",
       " ..      ...                 ...                    ...\n",
       " 146    1873           Princeton                    NCF\n",
       " 147    1872           Princeton                    NCF\n",
       " 148    1871       None selected                    NCF\n",
       " 149    1870           Princeton                    NCF\n",
       " 150    1869  Princeton, Rutgers                    NCF\n",
       " \n",
       " [151 rows x 3 columns]]"
      ]
     },
     "execution_count": 3,
     "metadata": {},
     "output_type": "execute_result"
    }
   ],
   "source": [
    "tables = pd.read_html(url)\n",
    "tables"
   ]
  },
  {
   "cell_type": "code",
   "execution_count": 4,
   "metadata": {},
   "outputs": [],
   "source": [
    "football_champions_df = tables[0]\n",
    "\n",
    "football_champoions = football_champions_df"
   ]
  },
  {
   "cell_type": "code",
   "execution_count": 5,
   "metadata": {},
   "outputs": [],
   "source": [
    "#  football_champions_df['Champion'].replace(['Alabama', 'Clemson','LSU','Florida State','Auburn','Florida','Texas'], \n",
    "#                                           ['The University of Alabama','Clemson University','Louisiana State University and Agricultural & Mechanical College',\n",
    "#                                           'Florida State University','Auburn University','University of Florida',\n",
    "#                                           'The University of Texas at Austin'])\n",
    "\n",
    "\n",
    "\n",
    "champs_df = football_champions_df.replace(to_replace={\"Alabama\":\"The University of Alabama\",\"Clemson\":'Clemson University',\n",
    "                                         'LSU':'Louisiana State University and Agricultural & Mechanical College',\n",
    "                                         'Florida State':'Florida State University','Auburn':'Auburn University','Florida':'University of Florida',\n",
    "                                         'Texas':'The University of Texas at Austin'})"
   ]
  },
  {
   "cell_type": "code",
   "execution_count": 6,
   "metadata": {},
   "outputs": [
    {
     "data": {
      "text/html": [
       "<div>\n",
       "<style scoped>\n",
       "    .dataframe tbody tr th:only-of-type {\n",
       "        vertical-align: middle;\n",
       "    }\n",
       "\n",
       "    .dataframe tbody tr th {\n",
       "        vertical-align: top;\n",
       "    }\n",
       "\n",
       "    .dataframe thead th {\n",
       "        text-align: right;\n",
       "    }\n",
       "</style>\n",
       "<table border=\"1\" class=\"dataframe\">\n",
       "  <thead>\n",
       "    <tr style=\"text-align: right;\">\n",
       "      <th></th>\n",
       "      <th>Season</th>\n",
       "      <th>Champion</th>\n",
       "      <th>Selecting Organization</th>\n",
       "    </tr>\n",
       "  </thead>\n",
       "  <tbody>\n",
       "    <tr>\n",
       "      <th>0</th>\n",
       "      <td>2019</td>\n",
       "      <td>Louisiana State University and Agricultural &amp; ...</td>\n",
       "      <td>CFP</td>\n",
       "    </tr>\n",
       "    <tr>\n",
       "      <th>1</th>\n",
       "      <td>2018</td>\n",
       "      <td>Clemson University</td>\n",
       "      <td>CFP</td>\n",
       "    </tr>\n",
       "    <tr>\n",
       "      <th>2</th>\n",
       "      <td>2017</td>\n",
       "      <td>The University of Alabama</td>\n",
       "      <td>CFP</td>\n",
       "    </tr>\n",
       "    <tr>\n",
       "      <th>3</th>\n",
       "      <td>2016</td>\n",
       "      <td>Clemson University</td>\n",
       "      <td>CFP</td>\n",
       "    </tr>\n",
       "    <tr>\n",
       "      <th>4</th>\n",
       "      <td>2015</td>\n",
       "      <td>The University of Alabama</td>\n",
       "      <td>CFP</td>\n",
       "    </tr>\n",
       "    <tr>\n",
       "      <th>...</th>\n",
       "      <td>...</td>\n",
       "      <td>...</td>\n",
       "      <td>...</td>\n",
       "    </tr>\n",
       "    <tr>\n",
       "      <th>146</th>\n",
       "      <td>1873</td>\n",
       "      <td>Princeton</td>\n",
       "      <td>NCF</td>\n",
       "    </tr>\n",
       "    <tr>\n",
       "      <th>147</th>\n",
       "      <td>1872</td>\n",
       "      <td>Princeton</td>\n",
       "      <td>NCF</td>\n",
       "    </tr>\n",
       "    <tr>\n",
       "      <th>148</th>\n",
       "      <td>1871</td>\n",
       "      <td>None selected</td>\n",
       "      <td>NCF</td>\n",
       "    </tr>\n",
       "    <tr>\n",
       "      <th>149</th>\n",
       "      <td>1870</td>\n",
       "      <td>Princeton</td>\n",
       "      <td>NCF</td>\n",
       "    </tr>\n",
       "    <tr>\n",
       "      <th>150</th>\n",
       "      <td>1869</td>\n",
       "      <td>Princeton, Rutgers</td>\n",
       "      <td>NCF</td>\n",
       "    </tr>\n",
       "  </tbody>\n",
       "</table>\n",
       "<p>151 rows × 3 columns</p>\n",
       "</div>"
      ],
      "text/plain": [
       "     Season                                           Champion  \\\n",
       "0      2019  Louisiana State University and Agricultural & ...   \n",
       "1      2018                                 Clemson University   \n",
       "2      2017                          The University of Alabama   \n",
       "3      2016                                 Clemson University   \n",
       "4      2015                          The University of Alabama   \n",
       "..      ...                                                ...   \n",
       "146    1873                                          Princeton   \n",
       "147    1872                                          Princeton   \n",
       "148    1871                                      None selected   \n",
       "149    1870                                          Princeton   \n",
       "150    1869                                 Princeton, Rutgers   \n",
       "\n",
       "    Selecting Organization  \n",
       "0                      CFP  \n",
       "1                      CFP  \n",
       "2                      CFP  \n",
       "3                      CFP  \n",
       "4                      CFP  \n",
       "..                     ...  \n",
       "146                    NCF  \n",
       "147                    NCF  \n",
       "148                    NCF  \n",
       "149                    NCF  \n",
       "150                    NCF  \n",
       "\n",
       "[151 rows x 3 columns]"
      ]
     },
     "execution_count": 6,
     "metadata": {},
     "output_type": "execute_result"
    }
   ],
   "source": [
    "champs_df "
   ]
  },
  {
   "cell_type": "code",
   "execution_count": 7,
   "metadata": {},
   "outputs": [],
   "source": [
    "champs_df.set_index('Season', inplace=True)"
   ]
  },
  {
   "cell_type": "code",
   "execution_count": 9,
   "metadata": {},
   "outputs": [],
   "source": [
    "champs_df.to_csv('../Cleaned_Resources/footbal_champions.csv')"
   ]
  },
  {
   "cell_type": "code",
   "execution_count": null,
   "metadata": {},
   "outputs": [],
   "source": [
    "football_champions_df"
   ]
  },
  {
   "cell_type": "code",
   "execution_count": null,
   "metadata": {},
   "outputs": [],
   "source": []
  }
 ],
 "metadata": {
  "kernelspec": {
   "display_name": "Python [conda env:PythonData] *",
   "language": "python",
   "name": "conda-env-PythonData-py"
  },
  "language_info": {
   "codemirror_mode": {
    "name": "ipython",
    "version": 3
   },
   "file_extension": ".py",
   "mimetype": "text/x-python",
   "name": "python",
   "nbconvert_exporter": "python",
   "pygments_lexer": "ipython3",
   "version": "3.6.10"
  }
 },
 "nbformat": 4,
 "nbformat_minor": 4
}
