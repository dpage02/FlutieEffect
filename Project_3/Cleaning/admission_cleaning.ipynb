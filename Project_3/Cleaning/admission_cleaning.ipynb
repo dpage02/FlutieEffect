{
 "cells": [
  {
   "cell_type": "code",
   "execution_count": 1,
   "metadata": {},
   "outputs": [],
   "source": [
    "# import dependencies\n",
    "import pandas as pd"
   ]
  },
  {
   "cell_type": "code",
   "execution_count": 2,
   "metadata": {},
   "outputs": [],
   "source": [
    "# load in data\n",
    "admission_file = \"../Resources/admission_application_trends.csv\"\n",
    "expense_file = \"../Resources/athletic_expense_report.csv\""
   ]
  },
  {
   "cell_type": "code",
   "execution_count": 3,
   "metadata": {},
   "outputs": [
    {
     "data": {
      "text/html": [
       "<div>\n",
       "<style scoped>\n",
       "    .dataframe tbody tr th:only-of-type {\n",
       "        vertical-align: middle;\n",
       "    }\n",
       "\n",
       "    .dataframe tbody tr th {\n",
       "        vertical-align: top;\n",
       "    }\n",
       "\n",
       "    .dataframe thead th {\n",
       "        text-align: right;\n",
       "    }\n",
       "</style>\n",
       "<table border=\"1\" class=\"dataframe\">\n",
       "  <thead>\n",
       "    <tr style=\"text-align: right;\">\n",
       "      <th></th>\n",
       "      <th>Unit Id</th>\n",
       "      <th>Institution name</th>\n",
       "      <th>Unnamed: 2</th>\n",
       "      <th>2018</th>\n",
       "      <th>2017</th>\n",
       "      <th>2016</th>\n",
       "      <th>2015</th>\n",
       "      <th>2014</th>\n",
       "      <th>2013</th>\n",
       "      <th>2012</th>\n",
       "      <th>2011</th>\n",
       "      <th>2010</th>\n",
       "      <th>2009</th>\n",
       "      <th>2008</th>\n",
       "      <th>2007</th>\n",
       "      <th>2006</th>\n",
       "      <th>2005</th>\n",
       "      <th>2004</th>\n",
       "      <th>2003</th>\n",
       "      <th>2002</th>\n",
       "    </tr>\n",
       "  </thead>\n",
       "  <tbody>\n",
       "    <tr>\n",
       "      <th>0</th>\n",
       "      <td>100654</td>\n",
       "      <td>Alabama A &amp; M University</td>\n",
       "      <td>Reporting period</td>\n",
       "      <td>NaN</td>\n",
       "      <td>NaN</td>\n",
       "      <td>NaN</td>\n",
       "      <td>NaN</td>\n",
       "      <td>NaN</td>\n",
       "      <td>Fall 2013</td>\n",
       "      <td>Fall 2012</td>\n",
       "      <td>Fall 2011</td>\n",
       "      <td>Fall 2010</td>\n",
       "      <td>Fall 2009</td>\n",
       "      <td>Fall 2008</td>\n",
       "      <td>Fall 2007</td>\n",
       "      <td>Fall 2006</td>\n",
       "      <td>Fall 2005</td>\n",
       "      <td>Fall 2003</td>\n",
       "      <td>Fall 2003</td>\n",
       "      <td>Fall 2002</td>\n",
       "    </tr>\n",
       "    <tr>\n",
       "      <th>1</th>\n",
       "      <td>100654</td>\n",
       "      <td>Alabama A &amp; M University</td>\n",
       "      <td>Number of applicants</td>\n",
       "      <td>9638</td>\n",
       "      <td>8610</td>\n",
       "      <td>7043</td>\n",
       "      <td>7901</td>\n",
       "      <td>9901</td>\n",
       "      <td>6142</td>\n",
       "      <td>10877</td>\n",
       "      <td>7156</td>\n",
       "      <td>5986</td>\n",
       "      <td>5705</td>\n",
       "      <td>3961</td>\n",
       "      <td>6470</td>\n",
       "      <td>9663</td>\n",
       "      <td>7857</td>\n",
       "      <td>6197</td>\n",
       "      <td>8295</td>\n",
       "      <td>4676</td>\n",
       "    </tr>\n",
       "    <tr>\n",
       "      <th>2</th>\n",
       "      <td>100654</td>\n",
       "      <td>Alabama A &amp; M University</td>\n",
       "      <td>Number admitted</td>\n",
       "      <td>8661</td>\n",
       "      <td>7772</td>\n",
       "      <td>6154</td>\n",
       "      <td>5166</td>\n",
       "      <td>5204</td>\n",
       "      <td>5521</td>\n",
       "      <td>5915</td>\n",
       "      <td>3585</td>\n",
       "      <td>3070</td>\n",
       "      <td>2696</td>\n",
       "      <td>1941</td>\n",
       "      <td>2059</td>\n",
       "      <td>3979</td>\n",
       "      <td>3299</td>\n",
       "      <td>2944</td>\n",
       "      <td>3697</td>\n",
       "      <td>2607</td>\n",
       "    </tr>\n",
       "    <tr>\n",
       "      <th>3</th>\n",
       "      <td>100654</td>\n",
       "      <td>Alabama A &amp; M University</td>\n",
       "      <td>Number admitted who enrolled</td>\n",
       "      <td>1529</td>\n",
       "      <td>1294</td>\n",
       "      <td>1568</td>\n",
       "      <td>1461</td>\n",
       "      <td>1207</td>\n",
       "      <td>1104</td>\n",
       "      <td>1033</td>\n",
       "      <td>872</td>\n",
       "      <td>1123</td>\n",
       "      <td>1050</td>\n",
       "      <td>1048</td>\n",
       "      <td>885</td>\n",
       "      <td>1137</td>\n",
       "      <td>1099</td>\n",
       "      <td>1259</td>\n",
       "      <td>1301</td>\n",
       "      <td>1425</td>\n",
       "    </tr>\n",
       "    <tr>\n",
       "      <th>4</th>\n",
       "      <td>100654</td>\n",
       "      <td>Alabama A &amp; M University</td>\n",
       "      <td>Percent of applicants admitted</td>\n",
       "      <td>89.9%</td>\n",
       "      <td>90.3%</td>\n",
       "      <td>87.4%</td>\n",
       "      <td>65.4%</td>\n",
       "      <td>52.6%</td>\n",
       "      <td>89.9%</td>\n",
       "      <td>54.4%</td>\n",
       "      <td>50.1%</td>\n",
       "      <td>51.3%</td>\n",
       "      <td>47.3%</td>\n",
       "      <td>49.0%</td>\n",
       "      <td>31.8%</td>\n",
       "      <td>41.2%</td>\n",
       "      <td>42.0%</td>\n",
       "      <td>47.5%</td>\n",
       "      <td>44.6%</td>\n",
       "      <td>55.8%</td>\n",
       "    </tr>\n",
       "  </tbody>\n",
       "</table>\n",
       "</div>"
      ],
      "text/plain": [
       "   Unit Id          Institution name                      Unnamed: 2   2018  \\\n",
       "0   100654  Alabama A & M University                Reporting period    NaN   \n",
       "1   100654  Alabama A & M University            Number of applicants   9638   \n",
       "2   100654  Alabama A & M University                 Number admitted   8661   \n",
       "3   100654  Alabama A & M University    Number admitted who enrolled   1529   \n",
       "4   100654  Alabama A & M University  Percent of applicants admitted  89.9%   \n",
       "\n",
       "    2017   2016   2015   2014       2013       2012       2011       2010  \\\n",
       "0    NaN    NaN    NaN    NaN  Fall 2013  Fall 2012  Fall 2011  Fall 2010   \n",
       "1   8610   7043   7901   9901       6142      10877       7156       5986   \n",
       "2   7772   6154   5166   5204       5521       5915       3585       3070   \n",
       "3   1294   1568   1461   1207       1104       1033        872       1123   \n",
       "4  90.3%  87.4%  65.4%  52.6%      89.9%      54.4%      50.1%      51.3%   \n",
       "\n",
       "        2009       2008       2007       2006       2005       2004  \\\n",
       "0  Fall 2009  Fall 2008  Fall 2007  Fall 2006  Fall 2005  Fall 2003   \n",
       "1       5705       3961       6470       9663       7857       6197   \n",
       "2       2696       1941       2059       3979       3299       2944   \n",
       "3       1050       1048        885       1137       1099       1259   \n",
       "4      47.3%      49.0%      31.8%      41.2%      42.0%      47.5%   \n",
       "\n",
       "        2003       2002  \n",
       "0  Fall 2003  Fall 2002  \n",
       "1       8295       4676  \n",
       "2       3697       2607  \n",
       "3       1301       1425  \n",
       "4      44.6%      55.8%  "
      ]
     },
     "execution_count": 3,
     "metadata": {},
     "output_type": "execute_result"
    }
   ],
   "source": [
    "# turn file into pandas df\n",
    "expense_data = pd.read_csv(expense_file)\n",
    "admission_data = pd.read_csv(admission_file)\n",
    "\n",
    "admission_data.head()"
   ]
  },
  {
   "cell_type": "code",
   "execution_count": 4,
   "metadata": {},
   "outputs": [],
   "source": [
    "# getting wanted schools based off expense report\n",
    "# recreating football schools list \n",
    "schools_wanted = expense_data['Data'].unique()\n",
    "football_schools = list(schools_wanted)"
   ]
  },
  {
   "cell_type": "code",
   "execution_count": 5,
   "metadata": {},
   "outputs": [
    {
     "data": {
      "text/plain": [
       "['Colorado State University',\n",
       " 'Arkansas State University',\n",
       " 'College of William and Mary',\n",
       " 'Wright State University',\n",
       " 'Binghamton University, The State University of New York',\n",
       " 'Rutgers, The State University of New Jersey-New Brunswick',\n",
       " 'Bowling Green State University',\n",
       " 'United States Air Force Academy',\n",
       " 'University of Michigan',\n",
       " 'University of New Hampshire',\n",
       " 'Miami University',\n",
       " 'University of Massachusetts Amherst',\n",
       " 'The University of Tennessee at Chattanooga',\n",
       " 'North Dakota State University',\n",
       " 'United States Military Academy',\n",
       " 'University of Washington',\n",
       " 'The Ohio State University',\n",
       " 'Pennsylvania State University',\n",
       " 'Oklahoma State University',\n",
       " 'University of Akron',\n",
       " 'The University of Tennessee',\n",
       " 'Purdue University',\n",
       " 'New Mexico State University',\n",
       " 'University at Buffalo, The State University of New York',\n",
       " 'Ohio University',\n",
       " 'The University of Tennessee at Martin',\n",
       " 'Arizona State University',\n",
       " 'Missouri State University',\n",
       " 'University at Albany, State University of New York',\n",
       " 'Texas A & M University',\n",
       " 'University of South Carolina',\n",
       " 'University of South Florida',\n",
       " 'University of New Mexico',\n",
       " 'University of Oklahoma',\n",
       " 'University of Virginia',\n",
       " 'University of South Carolina Upstate',\n",
       " 'University of North Carolina at Wilmington',\n",
       " 'Georgia Institute of Technology',\n",
       " 'University of Cincinnati',\n",
       " 'Kent State University']"
      ]
     },
     "execution_count": 5,
     "metadata": {},
     "output_type": "execute_result"
    }
   ],
   "source": [
    "# showing schools that are missing from the admission data\n",
    "admission_schools = list(admission_data['Institution name'].unique())\n",
    "\n",
    "missing_schools = list(set(football_schools) - set(admission_schools))\n",
    "missing_schools"
   ]
  },
  {
   "cell_type": "code",
   "execution_count": 6,
   "metadata": {},
   "outputs": [
    {
     "data": {
      "text/plain": [
       "Index(['Unit Id', 'Institution name', 'Unnamed: 2', '2018', '2017', '2016',\n",
       "       '2015', '2014', '2013', '2012', '2011', '2010', '2009', '2008', '2007',\n",
       "       '2006', '2005', '2004', '2003', '2002'],\n",
       "      dtype='object')"
      ]
     },
     "execution_count": 6,
     "metadata": {},
     "output_type": "execute_result"
    }
   ],
   "source": [
    "admission_data.columns"
   ]
  },
  {
   "cell_type": "code",
   "execution_count": 7,
   "metadata": {},
   "outputs": [],
   "source": [
    "# dropping unwanted columns and chaning column names \n",
    "wanted_admission_data = admission_data.drop('Unit Id', axis=1)\n",
    "wanted_admission_data = admission_data.rename(columns={'Institution name':'School',\n",
    "                                                       'Unnamed: 2': 'Applicatin_Status'})"
   ]
  },
  {
   "cell_type": "code",
   "execution_count": 8,
   "metadata": {},
   "outputs": [],
   "source": [
    "# getting rid of schools that are not in football list\n",
    "admission_df = wanted_admission_data[wanted_admission_data['School'].isin(football_schools)]"
   ]
  },
  {
   "cell_type": "code",
   "execution_count": 10,
   "metadata": {},
   "outputs": [
    {
     "data": {
      "text/plain": [
       "191"
      ]
     },
     "execution_count": 10,
     "metadata": {},
     "output_type": "execute_result"
    }
   ],
   "source": [
    "# checking length of schools \n",
    "admission_schools = list(admission_df['School'].unique())\n",
    "len(admission_schools)"
   ]
  },
  {
   "cell_type": "code",
   "execution_count": 11,
   "metadata": {},
   "outputs": [],
   "source": [
    "# saving cleaned csv\n",
    "admission_df.to_csv('../Cleaned_Resources/admission_data.csv')"
   ]
  },
  {
   "cell_type": "code",
   "execution_count": null,
   "metadata": {},
   "outputs": [],
   "source": []
  }
 ],
 "metadata": {
  "kernelspec": {
   "display_name": "Python [conda env:PythonData] *",
   "language": "python",
   "name": "conda-env-PythonData-py"
  },
  "language_info": {
   "codemirror_mode": {
    "name": "ipython",
    "version": 3
   },
   "file_extension": ".py",
   "mimetype": "text/x-python",
   "name": "python",
   "nbconvert_exporter": "python",
   "pygments_lexer": "ipython3",
   "version": "3.6.10"
  }
 },
 "nbformat": 4,
 "nbformat_minor": 4
}
